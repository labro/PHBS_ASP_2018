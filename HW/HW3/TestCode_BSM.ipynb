{
 "cells": [
  {
   "cell_type": "markdown",
   "metadata": {
    "collapsed": true
   },
   "source": [
    "# Test BSM model implementation\n",
    "Repeat the same for normal model implementation"
   ]
  },
  {
   "cell_type": "code",
   "execution_count": 55,
   "metadata": {
    "collapsed": true
   },
   "outputs": [],
   "source": [
    "import numpy as np"
   ]
  },
  {
   "cell_type": "code",
   "execution_count": 59,
   "metadata": {},
   "outputs": [],
   "source": [
    "# import\n",
    "from option_models import bsm\n",
    "from option_models import normal"
   ]
  },
  {
   "cell_type": "code",
   "execution_count": 60,
   "metadata": {},
   "outputs": [
    {
     "data": {
      "text/plain": [
       "<module 'option_models.normal' from '/Users/zhangjunjie/Documents/Classes/18-19-I/Asp/homework/PHBS_ASP_2018/HW/HW3/option_models/normal.py'>"
      ]
     },
     "execution_count": 60,
     "metadata": {},
     "output_type": "execute_result"
    }
   ],
   "source": [
    "### only run this when you changed the class definition\n",
    "import imp\n",
    "imp.reload(bsm)\n",
    "imp.reload(normal)"
   ]
  },
  {
   "cell_type": "code",
   "execution_count": null,
   "metadata": {},
   "outputs": [],
   "source": []
  },
  {
   "cell_type": "markdown",
   "metadata": {
    "collapsed": true
   },
   "source": [
    "### Price"
   ]
  },
  {
   "cell_type": "code",
   "execution_count": 61,
   "metadata": {
    "collapsed": true
   },
   "outputs": [],
   "source": [
    "# create model\n",
    "bsm1 = bsm.BsmModel(0.2)"
   ]
  },
  {
   "cell_type": "code",
   "execution_count": 62,
   "metadata": {},
   "outputs": [
    {
     "name": "stdout",
     "output_type": "stream",
     "text": [
      "3.1062836665495652\n"
     ]
    }
   ],
   "source": [
    "# price\n",
    "strike = 102\n",
    "spot = 100\n",
    "texp = 0.25\n",
    "\n",
    "price = bsm1.price(strike=strike, spot=spot, texp=texp, cp_sign=1)\n",
    "print(price)\n",
    "assert( abs(price - 3.10628366655) < 1e-10 )"
   ]
  },
  {
   "cell_type": "markdown",
   "metadata": {},
   "source": [
    "### Implied vol"
   ]
  },
  {
   "cell_type": "code",
   "execution_count": 63,
   "metadata": {},
   "outputs": [],
   "source": [
    "# Randomly generate spot/strike/expiry/intr/divr/cp_sign\n",
    "# Then test implied volatility\n",
    "\n",
    "for k in range(100):\n",
    "    spot = np.random.uniform(80,100)\n",
    "    strike = np.random.uniform(80,100)\n",
    "    vol = np.random.uniform(0.0001, 0.4)\n",
    "    texp = np.random.uniform(0.1, 5)\n",
    "    intr = np.random.uniform(0, 0.3)\n",
    "    divr = np.random.uniform(0, 0.3)\n",
    "    cp_sign = 1 if np.random.rand() > 0.5 else -1\n",
    "\n",
    "    #print( spot, strike, vol, texp, intr, divr, cp_sign)\n",
    "\n",
    "    bsm2 = bsm.BsmModel(vol=vol, intr=intr, divr=divr)\n",
    "    price = bsm2.price(strike, spot, texp, cp_sign )\n",
    "    \n",
    "    # get implied vol\n",
    "    vol_imp = bsm2.impvol(price, strike, spot, texp=texp, cp_sign=cp_sign)\n",
    "    \n",
    "    # now price option with the obtained implied vol\n",
    "    bsm2.vol = vol_imp\n",
    "    price_imp = bsm2.price(strike, spot, texp, cp_sign )\n",
    "    \n",
    "    # compare the two prices\n",
    "    assert( abs(price - price_imp) < 1e-8 )"
   ]
  },
  {
   "cell_type": "markdown",
   "metadata": {
    "scrolled": true
   },
   "source": [
    "### Delta\n",
    "Verify delta by comparing numerical derivative"
   ]
  },
  {
   "cell_type": "code",
   "execution_count": 64,
   "metadata": {},
   "outputs": [],
   "source": [
    "delta = bsm1.delta(strike=strike, spot=spot, texp=texp, cp_sign=1)\n",
    "h = 1e-6\n",
    "price_up = bsm1.price(strike=strike, spot=spot+h, texp=texp, cp_sign=1)\n",
    "price_dn = bsm1.price(strike=strike, spot=spot-h, texp=texp, cp_sign=1)\n",
    "delta_numeric = ( price_up - price_dn )/(2*h)\n",
    "assert( abs(delta - delta_numeric) < 1e-6 )"
   ]
  },
  {
   "cell_type": "markdown",
   "metadata": {},
   "source": [
    "### Vega\n",
    "Do similar verification"
   ]
  },
  {
   "cell_type": "code",
   "execution_count": 66,
   "metadata": {},
   "outputs": [
    {
     "data": {
      "text/plain": [
       "(62.632336142063956, 62.63233614234309)"
      ]
     },
     "execution_count": 66,
     "metadata": {},
     "output_type": "execute_result"
    }
   ],
   "source": [
    "vega = bsm1.vega(strike=strike, spot=spot, texp=texp, cp_sign=1)\n",
    "h = 1e-6\n",
    "bsm_vol_up = bsm.BsmModel(0.2+h)\n",
    "bsm_vol_dn = bsm.BsmModel(0.2-h)\n",
    "price_up = bsm_vol_up.price(strike=strike, spot=spot, texp=texp, cp_sign=1)\n",
    "price_dn = bsm_vol_dn.price(strike=strike, spot=spot, texp=texp, cp_sign=1)\n",
    "vega_numeric = ( price_up - price_dn )/(2*h)\n",
    "# assert( abs(vega - vega_numeric) < 1e-6 )\n",
    "vega, vega_numeric"
   ]
  },
  {
   "cell_type": "markdown",
   "metadata": {
    "collapsed": true
   },
   "source": [
    "### Gamma\n",
    "Do similar verification"
   ]
  },
  {
   "cell_type": "code",
   "execution_count": 67,
   "metadata": {},
   "outputs": [],
   "source": [
    "gamma = bsm1.gamma(strike=strike, spot=spot, texp=texp, cp_sign=1)\n",
    "h = 1e-6\n",
    "price_up = bsm1.delta(strike=strike, spot=spot + h, texp=texp, cp_sign=1)\n",
    "price_dn = bsm1.delta(strike=strike, spot=spot - h, texp=texp, cp_sign=1)\n",
    "gamma_numeric = ( price_up - price_dn ) / ( 2*h )\n",
    "assert( abs(gamma - gamma_numeric) < 1e-6 )"
   ]
  },
  {
   "cell_type": "code",
   "execution_count": 68,
   "metadata": {},
   "outputs": [
    {
     "data": {
      "text/plain": [
       "(0.011458741291908974, 0.011458741289160912)"
      ]
     },
     "execution_count": 68,
     "metadata": {},
     "output_type": "execute_result"
    }
   ],
   "source": [
    "gamma, gamma_numeric"
   ]
  },
  {
   "cell_type": "code",
   "execution_count": null,
   "metadata": {
    "collapsed": true
   },
   "outputs": [],
   "source": []
  }
 ],
 "metadata": {
  "anaconda-cloud": {},
  "kernelspec": {
   "display_name": "Python 3",
   "language": "python",
   "name": "python3"
  },
  "language_info": {
   "codemirror_mode": {
    "name": "ipython",
    "version": 3
   },
   "file_extension": ".py",
   "mimetype": "text/x-python",
   "name": "python",
   "nbconvert_exporter": "python",
   "pygments_lexer": "ipython3",
   "version": "3.6.1"
  }
 },
 "nbformat": 4,
 "nbformat_minor": 1
}
